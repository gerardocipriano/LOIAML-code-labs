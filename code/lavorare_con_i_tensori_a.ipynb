{
 "cells": [
  {
   "attachments": {},
   "cell_type": "markdown",
   "metadata": {},
   "source": [
    "# Fondamenti di Pytorch"
   ]
  },
  {
   "attachments": {},
   "cell_type": "markdown",
   "metadata": {},
   "source": [
    "## Effettuiamo l'import delle librerie utilizzate nell'esercitazione."
   ]
  },
  {
   "cell_type": "code",
   "execution_count": null,
   "metadata": {},
   "outputs": [],
   "source": [
    "import torch\n",
    "import numpy as np"
   ]
  },
  {
   "attachments": {},
   "cell_type": "markdown",
   "metadata": {},
   "source": [
    "Per completezza, verifichiamone la versione installata."
   ]
  },
  {
   "cell_type": "code",
   "execution_count": null,
   "metadata": {},
   "outputs": [],
   "source": [
    "print(f'pytorch version:\\t{torch.__version__}')\n",
    "print(f'numpy version:\\t\\t{np.__version__}')"
   ]
  },
  {
   "attachments": {},
   "cell_type": "markdown",
   "metadata": {},
   "source": [
    "Di seguito i riferimenti alle pagine di documentazione, sempre utiliti:\n",
    "\n",
    "* Rif: [numpy](https://numpy.org/doc/stable/)\n",
    "* Rif: [pytorch](https://pytorch.org/docs/stable/index.html)"
   ]
  },
  {
   "attachments": {},
   "cell_type": "markdown",
   "metadata": {},
   "source": [
    "## _I tensori sono la base del framework pytorch e con essi si possono rappresentare raccolte di numeri organizzate in n dimensioni._"
   ]
  },
  {
   "attachments": {},
   "cell_type": "markdown",
   "metadata": {},
   "source": [
    "Un semplice numero, uno scalare, ad esempio."
   ]
  },
  {
   "cell_type": "code",
   "execution_count": null,
   "metadata": {},
   "outputs": [],
   "source": [
    "t_scalar = torch.tensor(5)"
   ]
  },
  {
   "cell_type": "code",
   "execution_count": null,
   "metadata": {},
   "outputs": [],
   "source": [
    "print(f'Valore\\t\\t: {t_scalar}')\n",
    "print(f'Tipo\\t\\t: {type(t_scalar)}')\n",
    "print(f'Dimensioni\\t: {t_scalar.ndim}')\n",
    "print(f'Forma\\t\\t: {t_scalar.shape}')"
   ]
  },
  {
   "attachments": {},
   "cell_type": "markdown",
   "metadata": {},
   "source": [
    "Per creare un tensore si utilizza il metodo _tensor_ della classe _torch_. Questo metodo creera' il tensore a partire dai dati forniti e mette a disposizione altri parametri di configurazione che vedremo successivamente.\n",
    "\n",
    "_**Nota**: attenzione, se si scrive tensor con la T maiuscola, non si ottiene lo stesso effetto. In tal caso si andrebbe a creare un tensore non inizializzato di cinque valori._\n",
    "\n",
    "* Rif: [torch.tensor](https://pytorch.org/docs/stable/generated/torch.tensor.html#torch.tensor)"
   ]
  },
  {
   "attachments": {},
   "cell_type": "markdown",
   "metadata": {},
   "source": [
    "Le dimensioni del tensore si possono conoscere direttamente dalla variabile indagando la proprieta' _ndim_."
   ]
  },
  {
   "attachments": {},
   "cell_type": "markdown",
   "metadata": {},
   "source": [
    "## _Possiamo costruire un tensore a partire da un vettore di valori._"
   ]
  },
  {
   "cell_type": "code",
   "execution_count": null,
   "metadata": {},
   "outputs": [],
   "source": [
    "values_vector = [1, 2, 3]\n",
    "t_vector = torch.tensor(values_vector)"
   ]
  },
  {
   "cell_type": "code",
   "execution_count": null,
   "metadata": {},
   "outputs": [],
   "source": [
    "print(f'Valore\\t\\t: {t_vector}')\n",
    "print(f'Tipo\\t\\t: {type(t_vector)}')\n",
    "print(f'Dimensioni\\t: {t_vector.ndim}')\n",
    "print(f'Forma\\t\\t: {t_vector.shape}')"
   ]
  },
  {
   "attachments": {},
   "cell_type": "markdown",
   "metadata": {},
   "source": [
    "## _Possiamo costruire un tensore a partire da una matrice di valori._"
   ]
  },
  {
   "cell_type": "code",
   "execution_count": null,
   "metadata": {},
   "outputs": [],
   "source": [
    "t_matrix = torch.tensor([[1, 2, 3],\n",
    "                         [4, 5, 6], \n",
    "                         [7, 8, 9]])"
   ]
  },
  {
   "cell_type": "code",
   "execution_count": null,
   "metadata": {},
   "outputs": [],
   "source": [
    "print(f'Valore:\\t\\t\\n{t_matrix}')\n",
    "print(f'Tipo\\t\\t: {type(t_matrix)}')\n",
    "print(f'Dimensioni\\t: {t_matrix.ndim}')\n",
    "print(f'Forma\\t\\t: {t_matrix.shape}')"
   ]
  },
  {
   "attachments": {},
   "cell_type": "markdown",
   "metadata": {},
   "source": [
    "## _Dei tensori e' possibile conoscere molte grazie alle proprieta' esposte._"
   ]
  },
  {
   "attachments": {},
   "cell_type": "markdown",
   "metadata": {},
   "source": [
    "Conoscere queste informazioni e' spesso vitale per anticipare e risolvere problemi o anche semplicemente per capire i dati che stiamo trattando. Creiamo una funzione di utilita' per ottenere queste informazioni."
   ]
  },
  {
   "cell_type": "code",
   "execution_count": null,
   "metadata": {},
   "outputs": [],
   "source": [
    "def info(t : torch.Tensor):\n",
    "    print(f'\\n*****')\n",
    "    print(f'Valore:\\n{t}\\n')\n",
    "    print(f'Tipo pytohn\\t: {type(t)}')\n",
    "    print(f'Tipo\\t\\t: {t.dtype}')\n",
    "    print(f'Dimensioni\\t: {t.ndim}')\n",
    "    print(f'Forma\\t\\t: {t.shape}')\n",
    "    print(f'Dispositivo\\t: {t.device}')\n",
    "    print(f'*****\\n')"
   ]
  },
  {
   "attachments": {},
   "cell_type": "markdown",
   "metadata": {},
   "source": [
    "Le principali informazioni che possono interessare sono: tipo, dimensioni, forma e dispositivo in cui il tensore va ad essere utilizzato. Proviamo a confrontare i tensori creati in precedenza."
   ]
  },
  {
   "cell_type": "code",
   "execution_count": null,
   "metadata": {},
   "outputs": [],
   "source": [
    "info(t_scalar)"
   ]
  },
  {
   "cell_type": "code",
   "execution_count": null,
   "metadata": {},
   "outputs": [],
   "source": [
    "info(t_vector)"
   ]
  },
  {
   "cell_type": "code",
   "execution_count": null,
   "metadata": {},
   "outputs": [],
   "source": [
    "info(t_matrix)"
   ]
  },
  {
   "attachments": {},
   "cell_type": "markdown",
   "metadata": {},
   "source": [
    "## _C'e' un forte legame, come visto anche per opencv, fra PyTorch e Numpy._"
   ]
  },
  {
   "attachments": {},
   "cell_type": "markdown",
   "metadata": {},
   "source": [
    "La differenza principale sta nel fatto che _numpy_ non supporta nativamente la GPU, a differenza di _pytorch_. Cio' non toglie che si possono usare entrambi e sono fra loro intercambiabili."
   ]
  },
  {
   "cell_type": "code",
   "execution_count": null,
   "metadata": {},
   "outputs": [],
   "source": [
    "n_matrix = np.array([[1, 2, 3],\n",
    "                     [4, 5, 6], \n",
    "                     [7, 8, 9]])"
   ]
  },
  {
   "cell_type": "code",
   "execution_count": null,
   "metadata": {},
   "outputs": [],
   "source": [
    "print(f'Tipo pytohn\\t: {type(n_matrix)}')\n",
    "print(f'Forma\\t\\t: {n_matrix.shape}')"
   ]
  },
  {
   "attachments": {},
   "cell_type": "markdown",
   "metadata": {},
   "source": [
    "Proviamo a passare da un tipo all'altro e viceversa."
   ]
  },
  {
   "cell_type": "code",
   "execution_count": null,
   "metadata": {},
   "outputs": [],
   "source": [
    "sample_tensor = np.array([[1, 2], [3, 4]])\n",
    "print()\n",
    "print(f'Tipo pytohn\\t: {type(sample_tensor)}')\n",
    "print(f'Forma\\t\\t: {sample_tensor.shape}')\n",
    "\n",
    "sample_tensor = torch.tensor([[1, 2], [3, 4]])\n",
    "print()\n",
    "print(f'Tipo pytohn\\t: {type(sample_tensor)}')\n",
    "print(f'Forma\\t\\t: {sample_tensor.shape}')\n",
    "\n",
    "sample_tensor = sample_tensor.numpy()\n",
    "print()\n",
    "print(f'Tipo pytohn\\t: {type(sample_tensor)}')\n",
    "print(f'Forma\\t\\t: {sample_tensor.shape}')\n",
    "\n",
    "sample_tensor = torch.from_numpy(sample_tensor)\n",
    "print()\n",
    "print(f'Tipo pytohn\\t: {type(sample_tensor)}')\n",
    "print(f'Forma\\t\\t: {sample_tensor.shape}')"
   ]
  },
  {
   "attachments": {},
   "cell_type": "markdown",
   "metadata": {},
   "source": [
    "## _Accesso e modifica di specifici elementi di un tensore e' possibile senza una particolare sintassi._"
   ]
  },
  {
   "attachments": {},
   "cell_type": "markdown",
   "metadata": {},
   "source": [
    "Le parentesi quadre e lo slicing sono spesso e voltentieri, piu' che sufficienti."
   ]
  },
  {
   "cell_type": "code",
   "execution_count": null,
   "metadata": {},
   "outputs": [],
   "source": [
    "print(f'\\nTensore:\\n{t_matrix}\\n')\n",
    "print(f'Prima riga della matrice: {t_matrix[0]}')\n",
    "print(f'Elemento seconda riga, terza colonna: {t_matrix[1][2]}')\n",
    "\n",
    "t_matrix[1][1] = 999\n",
    "\n",
    "print(f'\\nTensore modificato:\\n{t_matrix}\\n')\n",
    "\n",
    "t_matrix[1][1] = 5"
   ]
  },
  {
   "attachments": {},
   "cell_type": "markdown",
   "metadata": {},
   "source": [
    "## _Il tipo 'tensor' di pytorch si comporta come un involucro attorno ai dati che lo compongono, decorandoli con proprieta' metodi e operazioni._"
   ]
  },
  {
   "attachments": {},
   "cell_type": "markdown",
   "metadata": {},
   "source": [
    "L'involucro puo' essere rimosso per tornare ai dati originali. Per farlo ci sono i metodi:\n",
    "* _item_, nel caso di uno scalare.\n",
    "* _tolist_, negli altri casi."
   ]
  },
  {
   "cell_type": "code",
   "execution_count": null,
   "metadata": {},
   "outputs": [],
   "source": [
    "scalar = t_scalar.item()\n",
    "print()\n",
    "print(f'Valore\\t: {t_scalar} vs {scalar}')\n",
    "print(f'Tipo pytohn\\t: {type(t_scalar)} vs {type(scalar)}')\n",
    "\n",
    "vector = t_vector.tolist()\n",
    "print()\n",
    "print(f'Valore\\t: {t_vector} vs {vector}')\n",
    "print(f'Tipo pytohn\\t: {type(t_vector)} vs {type(vector)}')"
   ]
  },
  {
   "attachments": {},
   "cell_type": "markdown",
   "metadata": {},
   "source": [
    "* Rif: [item](https://pytorch.org/docs/stable/generated/torch.Tensor.item.html)\n",
    "* Rif: [tolist](https://pytorch.org/docs/stable/generated/torch.Tensor.tolist.html#torch.Tensor.tolist)"
   ]
  },
  {
   "attachments": {},
   "cell_type": "markdown",
   "metadata": {},
   "source": [
    "## _Nel ML/DL, non e' inusuale incontrare ed utilizzare tensori di grandi dimensioni, con valori randomicamente inizializzati o con formati particolari: pieni di zeri o uni._"
   ]
  },
  {
   "attachments": {},
   "cell_type": "markdown",
   "metadata": {},
   "source": [
    "L'utilita' di questi ultimi la vedremo successivamente. Partiamo creando un tensore completamente pieno di zeri."
   ]
  },
  {
   "cell_type": "code",
   "execution_count": null,
   "metadata": {},
   "outputs": [],
   "source": [
    "t_zeros = torch.zeros([3, 3])\n",
    "info(t_zeros)"
   ]
  },
  {
   "attachments": {},
   "cell_type": "markdown",
   "metadata": {},
   "source": [
    "Il metodo utilizzato e' _zeros_ e la funzionalita' si spiega da sola. Lo stesso risultato si sarebbe ottenuto, senza l'involucro dato da _pytorch_, anche con _numpy_."
   ]
  },
  {
   "cell_type": "code",
   "execution_count": null,
   "metadata": {},
   "outputs": [],
   "source": [
    "n_zeros = np.zeros([3, 3])\n",
    "print(n_zeros)"
   ]
  },
  {
   "attachments": {},
   "cell_type": "markdown",
   "metadata": {},
   "source": [
    "Creare un tensore di uni e' altrettanto semplice: si utilizza il metodo _ones_ fornendo la dimensione voluta. "
   ]
  },
  {
   "cell_type": "code",
   "execution_count": null,
   "metadata": {},
   "outputs": [],
   "source": [
    "t_ones = torch.ones([3, 3])\n",
    "info(t_ones)\n",
    "\n",
    "n_ones = np.ones([3, 3])\n",
    "print(n_ones)"
   ]
  },
  {
   "attachments": {},
   "cell_type": "markdown",
   "metadata": {},
   "source": [
    "* Rif: [zeros](https://pytorch.org/docs/stable/generated/torch.zeros.html?highlight=zeros)\n",
    "* Rif: [ones](https://pytorch.org/docs/stable/generated/torch.ones.html?highlight=ones#torch.ones)"
   ]
  },
  {
   "attachments": {},
   "cell_type": "markdown",
   "metadata": {},
   "source": [
    "## _Se la dimensione del tensore da creare e' lunga/complicata da scrivere o, ad esempio, e' pari a quella di un altro tensore a dispozione, non si e' nemmeno costretti a specificarla in maniera diretta._"
   ]
  },
  {
   "attachments": {},
   "cell_type": "markdown",
   "metadata": {},
   "source": [
    "Proviamo ad esempio a creare un tensore di uni della stessa dimensione di un tensore appena creato."
   ]
  },
  {
   "cell_type": "code",
   "execution_count": null,
   "metadata": {},
   "outputs": [],
   "source": [
    "t_tensor_sample = torch.tensor([[[1, 2]], [[1, 2]]])\n",
    "info(t_tensor_sample)\n",
    "\n",
    "t_zeros_sample = torch.zeros_like(t_tensor_sample)\n",
    "info(t_zeros_sample)"
   ]
  },
  {
   "attachments": {},
   "cell_type": "markdown",
   "metadata": {},
   "source": [
    "Per farlo si sfrutta il metodo _zeros\\_like_. Se avessimo voluto creare un tensore di uni, il metodo e' semplicemente _ones\\_like_.\n",
    "\n",
    "* Rif: [zeros_like](https://pytorch.org/docs/stable/generated/torch.zeros_like.html?highlight=zeros#torch.zeros_like)\n",
    "* Rif: [ones_like](https://pytorch.org/docs/stable/generated/torch.ones_like.html?highlight=ones#torch.ones_like)"
   ]
  },
  {
   "attachments": {},
   "cell_type": "markdown",
   "metadata": {},
   "source": [
    "## _Quanto visto per uni e zeri, vale anche per tensori random_."
   ]
  },
  {
   "attachments": {},
   "cell_type": "markdown",
   "metadata": {},
   "source": [
    "Creiamo quindi un tensore di valori random."
   ]
  },
  {
   "cell_type": "code",
   "execution_count": null,
   "metadata": {},
   "outputs": [],
   "source": [
    "t_random = torch.rand([3, 3])\n",
    "info(t_random)\n",
    "\n",
    "n_random = np.random.rand(3, 3)\n",
    "print(n_random)"
   ]
  },
  {
   "attachments": {},
   "cell_type": "markdown",
   "metadata": {},
   "source": [
    "Come fatto prima, possiamo creare tensori random a partire da tensori di esempio."
   ]
  },
  {
   "cell_type": "code",
   "execution_count": null,
   "metadata": {},
   "outputs": [],
   "source": [
    "info(t_tensor_sample)\n",
    "\n",
    "t_random_sample = torch.rand_like(t_tensor_sample, dtype=torch.float32)\n",
    "info(t_random_sample)"
   ]
  },
  {
   "attachments": {},
   "cell_type": "markdown",
   "metadata": {},
   "source": [
    "Di seguito un riferimento ad una pagina di ricerca del termine 'random'. I vari risultati mostrano anche le varie possibilita' di generazione di valori casuali.\n",
    "\n",
    "* Rif: [random](https://pytorch.org/docs/stable/search.html?q=rand&check_keywords=yes&area=default)"
   ]
  },
  {
   "attachments": {},
   "cell_type": "markdown",
   "metadata": {},
   "source": [
    "## _Nell'ultimo esempio, ma anche nelle informazioni fornite dalla proprieta' \"dtype\", abbiamo potuto vedere come esista uno specifico formato nei tensori._"
   ]
  },
  {
   "attachments": {},
   "cell_type": "markdown",
   "metadata": {},
   "source": [
    "Il formato, come visto per le immagini digitali, indica come i dati sono rappresentati a livello di bit e da' una veloce indicazione del grado di precisione che i dati stessi avranno. Di seguito un riferimento ai tipi che l'attuale versione di _pytorch_ mette a disposizione.\n",
    "\n",
    "* Rif: [PyTorch data types](https://pytorch.org/docs/stable/tensors.html#data-types)\n",
    "\n",
    "Come e' possibile vedere si possono distinguere formati per tipi di dato interi (con segno e senza segno) e reali. Per ognuno di questi c'e' poi un diverso grado di precisione: 64 bit, 32, 16..."
   ]
  },
  {
   "attachments": {},
   "cell_type": "markdown",
   "metadata": {},
   "source": [
    "## _Conoscere i tipi di dato di un tensore e' estremamente importante per evitare e comprendere possibili errori; cambiare il tipo di dato e' altrettanto utile._"
   ]
  },
  {
   "attachments": {},
   "cell_type": "markdown",
   "metadata": {},
   "source": [
    "Per cambiare tipo di dato, o formato, e' possibile usare il metodo _type_ esposto dal tensore stesso. Se non si forniscono argomenti, restituisce il tipo. Se si fornisce un tipo, esegue il casting del tensore.\n",
    "\n",
    "* Rif: [type](https://pytorch.org/docs/stable/generated/torch.Tensor.type.html?highlight=type)"
   ]
  },
  {
   "cell_type": "code",
   "execution_count": null,
   "metadata": {},
   "outputs": [],
   "source": [
    "t_tensor_i64 = torch.tensor([1, 2, 3])\n",
    "info(t_tensor_i64)"
   ]
  },
  {
   "cell_type": "code",
   "execution_count": null,
   "metadata": {},
   "outputs": [],
   "source": [
    "t_tensor_i64.type()"
   ]
  },
  {
   "cell_type": "code",
   "execution_count": null,
   "metadata": {},
   "outputs": [],
   "source": [
    "t_tensor_f16 = t_tensor_i64.type(torch.float16)\n",
    "info(t_tensor_f16)"
   ]
  },
  {
   "cell_type": "code",
   "execution_count": null,
   "metadata": {},
   "outputs": [],
   "source": [
    "t_tensor_f16.type()"
   ]
  },
  {
   "attachments": {},
   "cell_type": "markdown",
   "metadata": {},
   "source": [
    "## _Puo' risultare, infine, utile creare tensori da un range uniforme di valori._"
   ]
  },
  {
   "attachments": {},
   "cell_type": "markdown",
   "metadata": {},
   "source": [
    "Il metodo _arange_ permette proprio questo, indicando un valore di partenza, un valore finale ed eventualmente un passo fra i valori.\n",
    "\n",
    "* Rif: [arange](https://pytorch.org/docs/stable/generated/torch.arange.html?highlight=arange) "
   ]
  },
  {
   "cell_type": "code",
   "execution_count": null,
   "metadata": {},
   "outputs": [],
   "source": [
    "info(torch.arange(start=0, end=10))"
   ]
  },
  {
   "cell_type": "code",
   "execution_count": null,
   "metadata": {},
   "outputs": [],
   "source": [
    "info(torch.arange(start=0, end=10, step=2))"
   ]
  }
 ],
 "metadata": {
  "kernelspec": {
   "display_name": "corso_ai",
   "language": "python",
   "name": "python3"
  },
  "language_info": {
   "codemirror_mode": {
    "name": "ipython",
    "version": 3
   },
   "file_extension": ".py",
   "mimetype": "text/x-python",
   "name": "python",
   "nbconvert_exporter": "python",
   "pygments_lexer": "ipython3",
   "version": "3.10.4"
  },
  "orig_nbformat": 4,
  "vscode": {
   "interpreter": {
    "hash": "55b72797edd57f58696da9ac5b5536b8813fefe094e8c8c02c797501a07dae2a"
   }
  }
 },
 "nbformat": 4,
 "nbformat_minor": 2
}
