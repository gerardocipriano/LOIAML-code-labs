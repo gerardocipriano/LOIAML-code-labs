{
 "cells": [
  {
   "attachments": {},
   "cell_type": "markdown",
   "metadata": {},
   "source": [
    "# Fondamenti di Pytorch"
   ]
  },
  {
   "attachments": {},
   "cell_type": "markdown",
   "metadata": {},
   "source": [
    "## Effettuiamo l'import delle librerie utilizzate nell'esercitazione."
   ]
  },
  {
   "cell_type": "code",
   "execution_count": null,
   "metadata": {},
   "outputs": [],
   "source": [
    "import torch\n",
    "import numpy as np"
   ]
  },
  {
   "attachments": {},
   "cell_type": "markdown",
   "metadata": {},
   "source": [
    "Di seguito i riferimenti alle pagine di documentazione, sempre utiliti:\n",
    "\n",
    "* Rif: [numpy](https://numpy.org/doc/stable/)\n",
    "* Rif: [pytorch](https://pytorch.org/docs/stable/index.html)"
   ]
  },
  {
   "attachments": {},
   "cell_type": "markdown",
   "metadata": {},
   "source": [
    "Aggiungiamo alcune funzioni di utilita' per semplificare la scrittura del codice."
   ]
  },
  {
   "cell_type": "code",
   "execution_count": null,
   "metadata": {},
   "outputs": [],
   "source": [
    "def info(t : torch.Tensor):\n",
    "    print(f'\\n*****')\n",
    "    print(f'Valore:\\n{t}\\n')\n",
    "    print(f'Tipo pytohn\\t: {type(t)}')\n",
    "    print(f'Tipo\\t\\t: {t.dtype}')\n",
    "    print(f'Dimensioni\\t: {t.ndim}')\n",
    "    print(f'Forma\\t\\t: {t.shape}')\n",
    "    print(f'Dispositivo\\t: {t.device}')\n",
    "    print(f'*****\\n')"
   ]
  },
  {
   "attachments": {},
   "cell_type": "markdown",
   "metadata": {},
   "source": [
    "## _Nel realizzare architetture e modelli di deep learning, puo' capitare di dovere applicare operazioni particolari ai tensori. Di seguito ne vediamo alcune._"
   ]
  },
  {
   "attachments": {},
   "cell_type": "markdown",
   "metadata": {},
   "source": [
    "### _La trasposizione permette di scambiare due dimensioni specificate._"
   ]
  },
  {
   "attachments": {},
   "cell_type": "markdown",
   "metadata": {},
   "source": [
    "Per effettuarla possiamo utilizzare il metodo _transpose_ o la proprieta' _T_ esposta dal tensore stesso.\n",
    "\n",
    "* Rif: [transpose](https://pytorch.org/docs/stable/generated/torch.transpose.html#torch.transpose)\n",
    "* Rif: [T](https://pytorch.org/docs/stable/tensors.html?highlight=t#torch.Tensor.T)"
   ]
  },
  {
   "cell_type": "code",
   "execution_count": null,
   "metadata": {},
   "outputs": [],
   "source": [
    "t_tensor = torch.tensor([[1, 2], [3, 4], [5, 6]])\n",
    "info(t_tensor)"
   ]
  },
  {
   "cell_type": "code",
   "execution_count": null,
   "metadata": {},
   "outputs": [],
   "source": [
    "info(torch.transpose(t_tensor,0,1))\n",
    "info(t_tensor.T)"
   ]
  },
  {
   "attachments": {},
   "cell_type": "markdown",
   "metadata": {},
   "source": [
    "### _E' possibile scambiare le dimensioni di un tensore fornendone una lista dove l'ordine degli indici e' modificato. A permettere di fare questo e' il metodo \"permute\"._"
   ]
  },
  {
   "attachments": {},
   "cell_type": "markdown",
   "metadata": {},
   "source": [
    "Rif: [permute](https://pytorch.org/docs/stable/generated/torch.permute.html)"
   ]
  },
  {
   "cell_type": "code",
   "execution_count": null,
   "metadata": {},
   "outputs": [],
   "source": [
    "t_tensor = torch.randint(low=1, high=11, size=(2,3,4))\n",
    "info(t_tensor)"
   ]
  },
  {
   "cell_type": "code",
   "execution_count": null,
   "metadata": {},
   "outputs": [],
   "source": [
    "info(torch.permute(t_tensor, (2, 0, 1)))"
   ]
  },
  {
   "attachments": {},
   "cell_type": "markdown",
   "metadata": {},
   "source": [
    "### _Modificare forma e dimensioni di un tensore e' altrettanto importante._"
   ]
  },
  {
   "attachments": {},
   "cell_type": "markdown",
   "metadata": {},
   "source": [
    "Il metodo _reshape_, in questo caso, permette di modificare forma e dimensione del tensore mantenendo pero' il numero di elementi.\n",
    "\n",
    "* Rif: [reshape](https://pytorch.org/docs/stable/generated/torch.reshape.html?highlight=reshape#torch.reshape)"
   ]
  },
  {
   "cell_type": "code",
   "execution_count": null,
   "metadata": {},
   "outputs": [],
   "source": [
    "t_tensor = torch.arange(1, 13)\n",
    "info(t_tensor)"
   ]
  },
  {
   "cell_type": "code",
   "execution_count": null,
   "metadata": {},
   "outputs": [],
   "source": [
    "info(torch.reshape(t_tensor, (3, 4)))"
   ]
  },
  {
   "cell_type": "code",
   "execution_count": null,
   "metadata": {},
   "outputs": [],
   "source": [
    "info(torch.reshape(t_tensor, (4, 3)))"
   ]
  },
  {
   "cell_type": "code",
   "execution_count": null,
   "metadata": {},
   "outputs": [],
   "source": [
    "info(torch.reshape(t_tensor, (1, 12)))"
   ]
  },
  {
   "cell_type": "code",
   "execution_count": null,
   "metadata": {},
   "outputs": [],
   "source": [
    "info(torch.reshape(t_tensor, (-1, 2, 2)))"
   ]
  },
  {
   "attachments": {},
   "cell_type": "markdown",
   "metadata": {},
   "source": [
    "### _Un funzionamento simile a \"reshape\", e' quello di \"view\"._"
   ]
  },
  {
   "attachments": {},
   "cell_type": "markdown",
   "metadata": {},
   "source": [
    "Se l'obbiettivo di entrambi i metodi e' cambiare la forma del tensore, la differenza sta nel fatto che _reshape_ ritorna, spesso, un nuovo tensore copiando gli stessi elementi di partenza ma non condividendoli; _view_ si da' invece l'obbiettivo di ritornare un tensore che condivide i dati con il tensore iniziale ma in una forma diversa.\n",
    "\n",
    "**Note:**\n",
    "- Modificare un tensore _view_, modifica l'originale.\n",
    "- Ogniqualvolta sia possibile, _reshape_ si comporta come _view_ evitando copie.\n",
    "\n",
    "* Rif: [view](https://pytorch.org/docs/stable/generated/torch.Tensor.view.html)"
   ]
  },
  {
   "cell_type": "code",
   "execution_count": null,
   "metadata": {},
   "outputs": [],
   "source": [
    "t_tensor = torch.tensor([1, 2, 3, 4])\n",
    "info(t_tensor)"
   ]
  },
  {
   "cell_type": "code",
   "execution_count": null,
   "metadata": {},
   "outputs": [],
   "source": [
    "t_tensor_v = t_tensor.view((2, 2))\n",
    "info(t_tensor_v)"
   ]
  },
  {
   "cell_type": "code",
   "execution_count": null,
   "metadata": {},
   "outputs": [],
   "source": [
    "t_tensor_v[1][1] = 9\n",
    "info(t_tensor)"
   ]
  }
 ],
 "metadata": {
  "kernelspec": {
   "display_name": "corso_ai",
   "language": "python",
   "name": "python3"
  },
  "language_info": {
   "codemirror_mode": {
    "name": "ipython",
    "version": 3
   },
   "file_extension": ".py",
   "mimetype": "text/x-python",
   "name": "python",
   "nbconvert_exporter": "python",
   "pygments_lexer": "ipython3",
   "version": "3.10.4"
  },
  "orig_nbformat": 4,
  "vscode": {
   "interpreter": {
    "hash": "55b72797edd57f58696da9ac5b5536b8813fefe094e8c8c02c797501a07dae2a"
   }
  }
 },
 "nbformat": 4,
 "nbformat_minor": 2
}
